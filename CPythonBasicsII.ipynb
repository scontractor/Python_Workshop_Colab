{
  "nbformat": 4,
  "nbformat_minor": 0,
  "metadata": {
    "kernelspec": {
      "display_name": "Python 3",
      "language": "python",
      "name": "python3"
    },
    "language_info": {
      "codemirror_mode": {
        "name": "ipython",
        "version": 3
      },
      "file_extension": ".py",
      "mimetype": "text/x-python",
      "name": "python",
      "nbconvert_exporter": "python",
      "pygments_lexer": "ipython3",
      "version": "3.7.3"
    },
    "colab": {
      "name": "CPythonBasicsII.ipynb",
      "provenance": [],
      "include_colab_link": true
    }
  },
  "cells": [
    {
      "cell_type": "markdown",
      "metadata": {
        "id": "view-in-github",
        "colab_type": "text"
      },
      "source": [
        "<a href=\"https://colab.research.google.com/github/scontractor/congenial-sniffle/blob/main/CPythonBasicsII.ipynb\" target=\"_parent\"><img src=\"https://colab.research.google.com/assets/colab-badge.svg\" alt=\"Open In Colab\"/></a>"
      ]
    },
    {
      "cell_type": "markdown",
      "metadata": {
        "id": "cfw9mU2w17zS"
      },
      "source": [
        "# Basics 2 Notebook\n",
        "\n",
        "## Conditional statements in Python\n",
        "\n",
        "First of all, we look at the simple **if statement**"
      ]
    },
    {
      "cell_type": "code",
      "metadata": {
        "id": "Tf9xoO8l17zS"
      },
      "source": [
        "if 10 > 12:\n",
        "    print(\"Change of history!\")"
      ],
      "execution_count": null,
      "outputs": []
    },
    {
      "cell_type": "markdown",
      "metadata": {
        "id": "uPnkhx_617zS"
      },
      "source": [
        "Now, we look at the **if-else statement**"
      ]
    },
    {
      "cell_type": "code",
      "metadata": {
        "id": "FEgEySna17zS"
      },
      "source": [
        "if 10 > 12:\n",
        "    print(\"Change of history!\")\n",
        "else:\n",
        "    print(\"Nothing new here!\")"
      ],
      "execution_count": null,
      "outputs": []
    },
    {
      "cell_type": "markdown",
      "metadata": {
        "id": "2lnJNwC317zS"
      },
      "source": [
        "And lastly, we add a bit of **elif** here!"
      ]
    },
    {
      "cell_type": "code",
      "metadata": {
        "id": "kY68WIU617zS"
      },
      "source": [
        "list_1 = [12, 34, \"Hannah\", \"Montana\", []]\n",
        "\n",
        "if 10 > 12: # False\n",
        "    print(\"Change of history!\")\n",
        "elif 5 > 7: # False\n",
        "    print(\"Still change of history!\")\n",
        "elif 12 in list_1: # True\n",
        "    print(\"Ok, I got it!\")\n",
        "else: # Only gets executed if all conditions above are False\n",
        "    print(\"Nothing new here!\")"
      ],
      "execution_count": null,
      "outputs": []
    },
    {
      "cell_type": "markdown",
      "metadata": {
        "id": "ja-GQgLv17zS"
      },
      "source": [
        "Ok, let's quickly check the **pass** statement"
      ]
    },
    {
      "cell_type": "code",
      "metadata": {
        "id": "eE8ITBTj17zS"
      },
      "source": [
        "if 10 > 5:\n",
        "    \n",
        "print(\"Apfelstrudel\")"
      ],
      "execution_count": null,
      "outputs": []
    },
    {
      "cell_type": "markdown",
      "metadata": {
        "id": "PeicZbsJ17zS"
      },
      "source": [
        "But if we add a litle **pass**"
      ]
    },
    {
      "cell_type": "code",
      "metadata": {
        "id": "UO0qnnvo17zS"
      },
      "source": [
        "if 10 > 5:\n",
        "   pass\n",
        "\n",
        "print(\"Apfelstrudel\")"
      ],
      "execution_count": null,
      "outputs": []
    },
    {
      "cell_type": "markdown",
      "metadata": {
        "id": "-lNIttXa17zS"
      },
      "source": [
        "Ok, and last but not least --> Boolean operators\n",
        "\n",
        "negation with **not**: not True == False"
      ]
    },
    {
      "cell_type": "code",
      "metadata": {
        "id": "Y28Q5-Am17zS"
      },
      "source": [
        "if 10 > 5 and 100 > 99:\n",
        "    print(\"That was and!\")\n",
        "    \n",
        "if 1 > 5 or 100 > 99:\n",
        "    print(\"That was or!\")\n",
        "\n",
        "if not False:\n",
        "    print(\"That is obviously True\")"
      ],
      "execution_count": null,
      "outputs": []
    },
    {
      "cell_type": "markdown",
      "metadata": {
        "id": "KBOjZoLw17zS"
      },
      "source": [
        "## Loops in Python\n",
        "\n",
        "### While loop"
      ]
    },
    {
      "cell_type": "code",
      "metadata": {
        "id": "npqpJgJh17zS"
      },
      "source": [
        "number = 0\n",
        "\n",
        "while number < 5 and True:\n",
        "    print(number)\n",
        "    number += 1"
      ],
      "execution_count": null,
      "outputs": []
    },
    {
      "cell_type": "markdown",
      "metadata": {
        "id": "4f36xMF117zS"
      },
      "source": [
        "### For Loop\n",
        "\n",
        "**Example 1!**"
      ]
    },
    {
      "cell_type": "code",
      "metadata": {
        "id": "NqPcD5TP17zS"
      },
      "source": [
        "for letter in \"deoxyribonucleic acid\":\n",
        "    print(\"That's hell of a word!\")"
      ],
      "execution_count": null,
      "outputs": []
    },
    {
      "cell_type": "markdown",
      "metadata": {
        "id": "ZNo-Oe1K17zS"
      },
      "source": [
        "**Example 2!**"
      ]
    },
    {
      "cell_type": "code",
      "metadata": {
        "id": "c746kfrB17zS"
      },
      "source": [
        "random_list = [\"Monkey\", \"Chips\", \"Game of Thrones\", \"Surf Gloves\"]\n",
        "\n",
        "for stuff in random_list:\n",
        "    print(stuff)"
      ],
      "execution_count": null,
      "outputs": []
    },
    {
      "cell_type": "markdown",
      "metadata": {
        "id": "HamhU4Tu17zS"
      },
      "source": [
        "**Example 3!**"
      ]
    },
    {
      "cell_type": "code",
      "metadata": {
        "id": "NpNmX7X117zS"
      },
      "source": [
        "random_list = [\"Monkey\", \"Chips\", \"Game of Thrones\", \"Surf Gloves\"]\n",
        "\n",
        "print(range(len(random_list)))\n",
        "\n",
        "for index in range(len(random_list)):\n",
        "    print(random_list[index])"
      ],
      "execution_count": null,
      "outputs": []
    },
    {
      "cell_type": "markdown",
      "metadata": {
        "id": "7GepiH3l17zS"
      },
      "source": [
        "First: **break**!"
      ]
    },
    {
      "cell_type": "code",
      "metadata": {
        "id": "0ZqGNEn817zS"
      },
      "source": [
        "number = 0\n",
        "\n",
        "while number < 5:\n",
        "    if number == 3:\n",
        "        print(f\"{number} is not my favourite number\")\n",
        "        break\n",
        "    else:\n",
        "        print(number)\n",
        "    number += 1"
      ],
      "execution_count": null,
      "outputs": []
    },
    {
      "cell_type": "markdown",
      "metadata": {
        "id": "hgESMIoC17zS"
      },
      "source": [
        "Now: **continue**!"
      ]
    },
    {
      "cell_type": "code",
      "metadata": {
        "id": "4txVeksd17zS"
      },
      "source": [
        "for letter in \"Apple\":\n",
        "    if letter == \"A\":\n",
        "        print(\"That's cool\")\n",
        "        continue\n",
        "    else:\n",
        "        print(letter)"
      ],
      "execution_count": null,
      "outputs": []
    },
    {
      "cell_type": "markdown",
      "metadata": {
        "id": "V04tsvKr17zS"
      },
      "source": [
        "Once again: **pass**!"
      ]
    },
    {
      "cell_type": "code",
      "metadata": {
        "id": "BTmTXa9E17zS"
      },
      "source": [
        "for letter in \"PeHar\":\n",
        "    if letter == \"H\":\n",
        "        pass\n",
        "    else:\n",
        "        print(letter)"
      ],
      "execution_count": null,
      "outputs": []
    },
    {
      "cell_type": "markdown",
      "metadata": {
        "id": "jOp0uFpX17zS"
      },
      "source": [
        "## Functions in Python\n",
        "\n",
        "### Syntax"
      ]
    },
    {
      "cell_type": "code",
      "metadata": {
        "id": "AXBuFMZi17zS"
      },
      "source": [
        "def sum_calc(a, b):\n",
        "    c = a + b\n",
        "    print(c)\n",
        "    \n",
        "sum_calc(8, 7)"
      ],
      "execution_count": null,
      "outputs": []
    },
    {
      "cell_type": "markdown",
      "metadata": {
        "id": "pHOnyG-S17zS"
      },
      "source": [
        "### Keyword arguments\n",
        "\n",
        "**Function calls can be identified by parameter name!**"
      ]
    },
    {
      "cell_type": "code",
      "metadata": {
        "id": "cVH2_0uB17zS"
      },
      "source": [
        "def greeting(greeting, name):\n",
        "    phrase = f\"{greeting} {name}!\"\n",
        "    print(phrase)\n",
        "\n",
        "\n",
        "# Using keyword arguments\n",
        "greeting(name=\"James\", greeting=\"Hello\")"
      ],
      "execution_count": null,
      "outputs": []
    },
    {
      "cell_type": "markdown",
      "metadata": {
        "id": "X6vyB4U717zS"
      },
      "source": [
        "### Required arguments\n",
        "\n",
        "**Arguments have to be in the right order!**"
      ]
    },
    {
      "cell_type": "code",
      "metadata": {
        "id": "OSh_LwW317zS"
      },
      "source": [
        "greeting(\"Hello\", \"James\")\n",
        "\n",
        "# not greeting(\"James\", \"Hello\")"
      ],
      "execution_count": null,
      "outputs": []
    },
    {
      "cell_type": "markdown",
      "metadata": {
        "id": "7WvY_kmn17zS"
      },
      "source": [
        "### Required arguments\n",
        "\n",
        "**Function has a default value in the function declaration, when value is not provided in call**"
      ]
    },
    {
      "cell_type": "code",
      "metadata": {
        "id": "aWs-Iqvi17zS"
      },
      "source": [
        "def call_people(name, age=35):\n",
        "    phrase = f\"{name} is {age} years old!\"\n",
        "    print(phrase)\n",
        "    \n",
        "call_people(name=\"Wolfgang\")"
      ],
      "execution_count": null,
      "outputs": []
    },
    {
      "cell_type": "markdown",
      "metadata": {
        "id": "p0_CYI9-17zT"
      },
      "source": [
        "### Variable-length arguments\n",
        "\n",
        "**Used when there is an unspecified amount of arguments**\n",
        "\n",
        "**args**: By using * as syntax you can take in a variable amount of arguments - by convention with word **args**"
      ]
    },
    {
      "cell_type": "code",
      "metadata": {
        "id": "O0bcQLZ017zT"
      },
      "source": [
        "def random_fun(arg1, *argv):\n",
        "    print(arg1)\n",
        "    for arg in argv:\n",
        "        print(arg)\n",
        "\n",
        "random_fun(\"First argument\", \"Ulrich\", 2, [1,2,3])"
      ],
      "execution_count": null,
      "outputs": []
    },
    {
      "cell_type": "markdown",
      "metadata": {
        "id": "GRz8Pl_917zT"
      },
      "source": [
        "**kwargs**: Now you can pass a keyworded, variable-lenth argument list. **Remember**: A keyword argument is where you have to name the variable as you call it with the function\n",
        "\n",
        "**kwargs** is like a dictionary that maps each keyword to the value that we pass --> this means that when we iterate over it, it does not have to be ordered"
      ]
    },
    {
      "cell_type": "code",
      "metadata": {
        "id": "-Cah3EdK17zT"
      },
      "source": [
        "def random_fun2(**kwargs):\n",
        "    for key, value in kwargs.items():\n",
        "        print(f\"{key} + {value}\")\n",
        "\n",
        "random_fun2(first=\"Ok\", mid=\"I get\", last=\"it\")"
      ],
      "execution_count": null,
      "outputs": []
    },
    {
      "cell_type": "markdown",
      "metadata": {
        "id": "EenU-pjR17zT"
      },
      "source": [
        "### Modules in Python\n",
        "\n",
        "Let's have a look at a sample module --> random\n",
        "\n",
        "There are several ways to import the methods from the random module, but every python file can be imported as a module in your script, which can help you structure your program\n",
        "\n",
        "**Option 1**"
      ]
    },
    {
      "cell_type": "code",
      "metadata": {
        "id": "gc5dICmF17zT"
      },
      "source": [
        "import random\n",
        "\n",
        "dir(random)"
      ],
      "execution_count": null,
      "outputs": []
    },
    {
      "cell_type": "code",
      "metadata": {
        "id": "0WJMVIq617zT"
      },
      "source": [
        "help(random.randint)"
      ],
      "execution_count": null,
      "outputs": []
    },
    {
      "cell_type": "code",
      "metadata": {
        "id": "-Vd68UBS17zT"
      },
      "source": [
        "def get_num(arg1):\n",
        "    rand_num = random.randint(0, 5)\n",
        "    sum_tot = rand_num + arg1\n",
        "    print(f\"The sum is: {sum_tot}\")\n",
        "    \n",
        "get_num(5)\n",
        "get_num(5)\n",
        "get_num(5)\n",
        "get_num(5)\n",
        "get_num(5)"
      ],
      "execution_count": null,
      "outputs": []
    },
    {
      "cell_type": "markdown",
      "metadata": {
        "id": "nw_TjQl317zT"
      },
      "source": [
        "### Option 2"
      ]
    },
    {
      "cell_type": "code",
      "metadata": {
        "id": "AOtzxHup17zT"
      },
      "source": [
        "from random import randint, sample # will only import randint and sample from random\n",
        "\n",
        "def get_num2(arg1):\n",
        "    rand_num = randint(0, 5) # there is no need of random now\n",
        "    sum_tot = rand_num + arg1\n",
        "    print(f\"The sum is: {sum_tot}\")\n",
        "    \n",
        "get_num2(5)"
      ],
      "execution_count": null,
      "outputs": []
    },
    {
      "cell_type": "markdown",
      "metadata": {
        "id": "Y5SOdPRK17zT"
      },
      "source": [
        "### Option 3"
      ]
    },
    {
      "cell_type": "code",
      "metadata": {
        "id": "8E_OzS7117zT"
      },
      "source": [
        "from random import randint as ri\n",
        "\n",
        "def get_num3(arg1):\n",
        "    rand_num = ri(0, 5) # there is no need of random now\n",
        "    sum_tot = rand_num + arg1\n",
        "    print(f\"The sum is: {sum_tot}\")\n",
        "    \n",
        "get_num3(5)"
      ],
      "execution_count": null,
      "outputs": []
    },
    {
      "cell_type": "markdown",
      "metadata": {
        "id": "NpoGxyhX17zT"
      },
      "source": [
        "**One last thing to mention**"
      ]
    },
    {
      "cell_type": "code",
      "metadata": {
        "id": "BXVMqStV17zT"
      },
      "source": [
        "from random import * # will import everything --> bad practice\n",
        "\n",
        "print(randint(0, 5))"
      ],
      "execution_count": null,
      "outputs": []
    }
  ]
}