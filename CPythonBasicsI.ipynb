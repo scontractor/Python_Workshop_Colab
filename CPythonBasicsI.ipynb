{
  "nbformat": 4,
  "nbformat_minor": 0,
  "metadata": {
    "kernelspec": {
      "display_name": "Python 3",
      "language": "python",
      "name": "python3"
    },
    "language_info": {
      "codemirror_mode": {
        "name": "ipython",
        "version": 3
      },
      "file_extension": ".py",
      "mimetype": "text/x-python",
      "name": "python",
      "nbconvert_exporter": "python",
      "pygments_lexer": "ipython3",
      "version": "3.7.2"
    },
    "colab": {
      "name": "CPythonBasicsI.ipynb",
      "provenance": [],
      "collapsed_sections": [
        "_i-O0f-9FN8P",
        "jsMC1ObKFN8l"
      ],
      "include_colab_link": true
    }
  },
  "cells": [
    {
      "cell_type": "markdown",
      "metadata": {
        "id": "view-in-github",
        "colab_type": "text"
      },
      "source": [
        "<a href=\"https://colab.research.google.com/github/scontractor/congenial-sniffle/blob/main/CPythonBasicsI.ipynb\" target=\"_parent\"><img src=\"https://colab.research.google.com/assets/colab-badge.svg\" alt=\"Open In Colab\"/></a>"
      ]
    },
    {
      "cell_type": "markdown",
      "metadata": {
        "id": "yACVNuluFN7_"
      },
      "source": [
        "# How to use this Google Colab?!\n",
        "\n"
      ]
    },
    {
      "cell_type": "markdown",
      "metadata": {
        "id": "KZKbyjVtFN8A"
      },
      "source": [
        "## Quick Summary"
      ]
    },
    {
      "cell_type": "markdown",
      "metadata": {
        "id": "6Q6WJS5bFN8C"
      },
      "source": [
        "In Google's Colab, there are  __code__ or __text__ cells. The gray cells  indicate that you are in the code mode. The normal white cells show that you are editing in text form. The text cells allow you to use common markdown language, such as HTML/CSS, to style your cell. \n",
        "\n",
        "The code cell is for running your code. The number in brackets (e.g. [2]) indicates when you ran your code. The highest number on the left demonstrates which one was the most recent. You can run your code with the _run_ button in the task bar.\n",
        "\n",
        "If your Colab notebook freezes or your command throws error for no reason than you might have to restart the runtime. You can do this by selecting: __Restart runtime__ in the Runtime menu above. \n",
        "\n",
        "But careful, all the variables which you declared in your notebook so far will get deleted. So you have to run the cells again to have them back.\n",
        "\n",
        "\n",
        "If you have any questions, check out the backup slides in the presentation or just ask us. Have fun ;)"
      ]
    },
    {
      "cell_type": "markdown",
      "metadata": {
        "id": "tMtbLmi_FN8C"
      },
      "source": [
        "## But now, it is time for PYTHON..."
      ]
    },
    {
      "cell_type": "markdown",
      "metadata": {
        "id": "ieWNuQqjFN8D"
      },
      "source": [
        "For motivation purpose: https://www.youtube.com/watch?v=ZXsQAXx_ao0! HA Ha HAAAA..."
      ]
    },
    {
      "cell_type": "markdown",
      "metadata": {
        "id": "8och0iHlFN8D"
      },
      "source": [
        "# Introduction to Python\n"
      ]
    },
    {
      "cell_type": "markdown",
      "metadata": {
        "id": "JNtHdccMFN8E"
      },
      "source": [
        "This notebook not only will introduce you to the fundamental concepts of Python programming, but also give you the chance to work on challenges which help you to improve your problem solving skills.\n",
        "\n",
        "We will cover the following topics:\n",
        "\n",
        "* Data types\n",
        "    * Numbers\n",
        "    * Strings\n",
        "    * Printing\n",
        "    * Lists\n",
        "    * Dictionaries\n",
        "    * Booleans\n",
        "    * Tuples \n",
        "    * Sets\n",
        "* Comparison Operators\n",
        "* if,elif, else Statements\n",
        "* for Loops\n",
        "* while Loops\n",
        "* range()\n",
        "* list comprehension\n",
        "* functions\n",
        "* lambda expressions\n",
        "* map and filter\n",
        "* methods\n"
      ]
    },
    {
      "cell_type": "markdown",
      "metadata": {
        "id": "gSxZFIq9FN8E"
      },
      "source": [
        "## Numbers"
      ]
    },
    {
      "cell_type": "markdown",
      "metadata": {
        "id": "QH7CLkgGFN8F"
      },
      "source": [
        "In Python, there are 3 different data types for numbers. There are integers, floating point numbers and complex numbers.\n",
        "    "
      ]
    },
    {
      "cell_type": "code",
      "metadata": {
        "id": "pf36VXVIFN8G",
        "colab": {
          "base_uri": "https://localhost:8080/"
        },
        "outputId": "7862a7bb-a8d3-4d81-b1d3-201cdb688675"
      },
      "source": [
        "a = 5 # a is a variable which holds the integer value of 5\n",
        "b = 2.7 # b is a variable which holds the float value of 2.7\n",
        "\n",
        "print(a, \"\\n\")\n",
        "\n",
        "print(a + b)\n",
        "\n",
        "print(b)"
      ],
      "execution_count": null,
      "outputs": [
        {
          "output_type": "stream",
          "text": [
            "5 \n",
            "\n",
            "7.7\n",
            "2.7\n"
          ],
          "name": "stdout"
        }
      ]
    },
    {
      "cell_type": "markdown",
      "metadata": {
        "id": "WzCyyRUZFN8J"
      },
      "source": [
        "Of course, you can use various math operations for your numbers. Here, we just present the basic ones. "
      ]
    },
    {
      "cell_type": "code",
      "metadata": {
        "id": "kIE_8Y6EFN8J",
        "colab": {
          "base_uri": "https://localhost:8080/",
          "height": 323
        },
        "outputId": "7f463c2f-443a-4535-fe38-ccad369aa09e"
      },
      "source": [
        "num1 = 5\n",
        "num2 = 10 \n",
        "num3 = num1 + num2 # Addition\n",
        "print(num3, \"\\n\")\n",
        "\n",
        "num1 = 56\n",
        "num2 = 7\n",
        "num3 = num1 - num2 # Substraction\n",
        "print(num3, \"\\n\")\n",
        "\n",
        "num1 = 3\n",
        "num2 = 12\n",
        "num3 = num1 * num2 # Multiplication\n",
        "print(num3, \"\\n\")\n",
        "\n",
        "num1 = 10\n",
        "num2 = 5\n",
        "num3 = num1 * num2 # Division\n",
        "print(num3, \"\\n\")\n",
        "\n",
        "num1 = 20\n",
        "num2 = 9 \n",
        "num3 = num1 % num2 # Modulus\n",
        "print(num3, \"\\n\")\n",
        "\n",
        "num1 = 2\n",
        "num2 = 3 \n",
        "num3 = num1 ** num2 # Exponent\n",
        "print(num3, \"\\n\")\n",
        "\n",
        "num1 = 10\n",
        "num2 = 4 \n",
        "num3 = num1 // num2 # floor\n",
        "print(num3, \"\\n\")\n",
        "\n",
        "\n",
        "num1 = 10.50\n",
        "num2 = 2\n",
        "num3 = num1 / num2 # Division Type 1\n",
        "print(num3, \"\\n\")\n",
        "\n",
        "num1 = 10\n",
        "num2 = 2.5\n",
        "num3 = num1 / num2 # Division Type 2\n",
        "print(num3, \"\\n\")\n"
      ],
      "execution_count": null,
      "outputs": [
        {
          "output_type": "stream",
          "text": [
            "15 \n",
            "\n",
            "49 \n",
            "\n",
            "36 \n",
            "\n",
            "50 \n",
            "\n",
            "2 \n",
            "\n",
            "8 \n",
            "\n",
            "2 \n",
            "\n",
            "5.25 \n",
            "\n",
            "4.0 \n",
            "\n"
          ],
          "name": "stdout"
        }
      ]
    },
    {
      "cell_type": "markdown",
      "metadata": {
        "id": "jerNADB1FN8M"
      },
      "source": [
        "Sometimes, you want to change a numbers datatypes. For example you want to transform a floating point number to a integer. Python presents some methods in order to do so"
      ]
    },
    {
      "cell_type": "code",
      "metadata": {
        "id": "85QY-3nyFN8M",
        "outputId": "31d1ce88-0332-4c76-c7f0-fe3d5ab1ba7d"
      },
      "source": [
        "num1 = 5.234\n",
        "num1 = int(num1) # Casts floating point number to integer\n",
        "\n",
        "print(num1, \"\\n\")\n",
        "\n",
        "num1 = 5\n",
        "num1 = float(num1) # Casts integer number to float\n",
        "\n",
        "print(num1, \"\\n\")\n"
      ],
      "execution_count": null,
      "outputs": [
        {
          "output_type": "stream",
          "text": [
            "5 \n",
            "\n",
            "5.0 \n",
            "\n"
          ],
          "name": "stdout"
        }
      ]
    },
    {
      "cell_type": "markdown",
      "metadata": {
        "id": "_i-O0f-9FN8P"
      },
      "source": [
        "## String Operators\n"
      ]
    },
    {
      "cell_type": "markdown",
      "metadata": {
        "id": "ogjmK-cMFN8P"
      },
      "source": [
        "## Concatenation"
      ]
    },
    {
      "cell_type": "markdown",
      "metadata": {
        "id": "I1PE3oEQFN8Q"
      },
      "source": [
        "Adds a value on both sides of the operator. "
      ]
    },
    {
      "cell_type": "code",
      "metadata": {
        "id": "cKI_boiPFN8Q",
        "colab": {
          "base_uri": "https://localhost:8080/",
          "height": 34
        },
        "outputId": "68dd2af2-153e-4725-b3cb-8854e53fe73f"
      },
      "source": [
        "string1 = \"Hello\"\n",
        "string2 = \"Python Master!\"\n",
        "stringsum = string1 + string2\n",
        "print(stringsum)"
      ],
      "execution_count": null,
      "outputs": [
        {
          "output_type": "stream",
          "text": [
            "HelloPython Master!\n"
          ],
          "name": "stdout"
        }
      ]
    },
    {
      "cell_type": "markdown",
      "metadata": {
        "id": "0WOl1JWoFN8S"
      },
      "source": [
        "## Repetition"
      ]
    },
    {
      "cell_type": "code",
      "metadata": {
        "id": "87rA-5CZFN8T",
        "colab": {
          "base_uri": "https://localhost:8080/",
          "height": 54
        },
        "outputId": "fc69ea3d-6076-40aa-9d0d-1bc71ec19e3c"
      },
      "source": [
        "string1 = \"Corona sucks! \"\n",
        "string1 = string1 * 1_000\n",
        "print(string1)"
      ],
      "execution_count": null,
      "outputs": [
        {
          "output_type": "stream",
          "text": [
            "Corona sucks! Corona sucks! Corona sucks! Corona sucks! Corona sucks! Corona sucks! Corona sucks! Corona sucks! Corona sucks! Corona sucks! Corona sucks! Corona sucks! Corona sucks! Corona sucks! Corona sucks! Corona sucks! Corona sucks! Corona sucks! Corona sucks! Corona sucks! Corona sucks! Corona sucks! Corona sucks! Corona sucks! Corona sucks! Corona sucks! Corona sucks! Corona sucks! Corona sucks! Corona sucks! Corona sucks! Corona sucks! Corona sucks! Corona sucks! Corona sucks! Corona sucks! Corona sucks! Corona sucks! Corona sucks! Corona sucks! Corona sucks! Corona sucks! Corona sucks! Corona sucks! Corona sucks! Corona sucks! Corona sucks! Corona sucks! Corona sucks! Corona sucks! Corona sucks! Corona sucks! Corona sucks! Corona sucks! Corona sucks! Corona sucks! Corona sucks! Corona sucks! Corona sucks! Corona sucks! Corona sucks! Corona sucks! Corona sucks! Corona sucks! Corona sucks! Corona sucks! Corona sucks! Corona sucks! Corona sucks! Corona sucks! Corona sucks! Corona sucks! Corona sucks! Corona sucks! Corona sucks! Corona sucks! Corona sucks! Corona sucks! Corona sucks! Corona sucks! Corona sucks! Corona sucks! Corona sucks! Corona sucks! Corona sucks! Corona sucks! Corona sucks! Corona sucks! Corona sucks! Corona sucks! Corona sucks! Corona sucks! Corona sucks! Corona sucks! Corona sucks! Corona sucks! Corona sucks! Corona sucks! Corona sucks! Corona sucks! Corona sucks! Corona sucks! Corona sucks! Corona sucks! Corona sucks! Corona sucks! Corona sucks! Corona sucks! Corona sucks! Corona sucks! Corona sucks! Corona sucks! Corona sucks! Corona sucks! Corona sucks! Corona sucks! Corona sucks! Corona sucks! Corona sucks! Corona sucks! Corona sucks! Corona sucks! Corona sucks! Corona sucks! Corona sucks! Corona sucks! Corona sucks! Corona sucks! Corona sucks! Corona sucks! Corona sucks! Corona sucks! Corona sucks! Corona sucks! Corona sucks! Corona sucks! Corona sucks! Corona sucks! Corona sucks! Corona sucks! Corona sucks! Corona sucks! Corona sucks! Corona sucks! Corona sucks! Corona sucks! Corona sucks! Corona sucks! Corona sucks! Corona sucks! Corona sucks! Corona sucks! Corona sucks! Corona sucks! Corona sucks! Corona sucks! Corona sucks! Corona sucks! Corona sucks! Corona sucks! Corona sucks! Corona sucks! Corona sucks! Corona sucks! Corona sucks! Corona sucks! Corona sucks! Corona sucks! Corona sucks! Corona sucks! Corona sucks! Corona sucks! Corona sucks! Corona sucks! Corona sucks! Corona sucks! Corona sucks! Corona sucks! Corona sucks! Corona sucks! Corona sucks! Corona sucks! Corona sucks! Corona sucks! Corona sucks! Corona sucks! Corona sucks! Corona sucks! Corona sucks! Corona sucks! Corona sucks! Corona sucks! Corona sucks! Corona sucks! Corona sucks! Corona sucks! Corona sucks! Corona sucks! Corona sucks! Corona sucks! Corona sucks! Corona sucks! Corona sucks! Corona sucks! Corona sucks! Corona sucks! Corona sucks! Corona sucks! Corona sucks! Corona sucks! Corona sucks! Corona sucks! Corona sucks! Corona sucks! Corona sucks! Corona sucks! Corona sucks! Corona sucks! Corona sucks! Corona sucks! Corona sucks! Corona sucks! Corona sucks! Corona sucks! Corona sucks! Corona sucks! Corona sucks! Corona sucks! Corona sucks! Corona sucks! Corona sucks! Corona sucks! Corona sucks! Corona sucks! Corona sucks! Corona sucks! Corona sucks! Corona sucks! Corona sucks! Corona sucks! Corona sucks! Corona sucks! Corona sucks! Corona sucks! Corona sucks! Corona sucks! Corona sucks! Corona sucks! Corona sucks! Corona sucks! Corona sucks! Corona sucks! Corona sucks! Corona sucks! Corona sucks! Corona sucks! Corona sucks! Corona sucks! Corona sucks! Corona sucks! Corona sucks! Corona sucks! Corona sucks! Corona sucks! Corona sucks! Corona sucks! Corona sucks! Corona sucks! Corona sucks! Corona sucks! Corona sucks! Corona sucks! Corona sucks! Corona sucks! Corona sucks! Corona sucks! Corona sucks! Corona sucks! Corona sucks! Corona sucks! Corona sucks! Corona sucks! Corona sucks! Corona sucks! Corona sucks! Corona sucks! Corona sucks! Corona sucks! Corona sucks! Corona sucks! Corona sucks! Corona sucks! Corona sucks! Corona sucks! Corona sucks! Corona sucks! Corona sucks! Corona sucks! Corona sucks! Corona sucks! Corona sucks! Corona sucks! Corona sucks! Corona sucks! Corona sucks! Corona sucks! Corona sucks! Corona sucks! Corona sucks! Corona sucks! Corona sucks! Corona sucks! Corona sucks! Corona sucks! Corona sucks! Corona sucks! Corona sucks! Corona sucks! Corona sucks! Corona sucks! Corona sucks! Corona sucks! Corona sucks! Corona sucks! Corona sucks! Corona sucks! Corona sucks! Corona sucks! Corona sucks! Corona sucks! Corona sucks! Corona sucks! Corona sucks! Corona sucks! Corona sucks! Corona sucks! Corona sucks! Corona sucks! Corona sucks! Corona sucks! Corona sucks! Corona sucks! Corona sucks! Corona sucks! Corona sucks! Corona sucks! Corona sucks! Corona sucks! Corona sucks! Corona sucks! Corona sucks! Corona sucks! Corona sucks! Corona sucks! Corona sucks! Corona sucks! Corona sucks! Corona sucks! Corona sucks! Corona sucks! Corona sucks! Corona sucks! Corona sucks! Corona sucks! Corona sucks! Corona sucks! Corona sucks! Corona sucks! Corona sucks! Corona sucks! Corona sucks! Corona sucks! Corona sucks! Corona sucks! Corona sucks! Corona sucks! Corona sucks! Corona sucks! Corona sucks! Corona sucks! Corona sucks! Corona sucks! Corona sucks! Corona sucks! Corona sucks! Corona sucks! Corona sucks! Corona sucks! Corona sucks! Corona sucks! Corona sucks! Corona sucks! Corona sucks! Corona sucks! Corona sucks! Corona sucks! Corona sucks! Corona sucks! Corona sucks! Corona sucks! Corona sucks! Corona sucks! Corona sucks! Corona sucks! Corona sucks! Corona sucks! Corona sucks! Corona sucks! Corona sucks! Corona sucks! Corona sucks! Corona sucks! Corona sucks! Corona sucks! Corona sucks! Corona sucks! Corona sucks! Corona sucks! Corona sucks! Corona sucks! Corona sucks! Corona sucks! Corona sucks! Corona sucks! Corona sucks! Corona sucks! Corona sucks! Corona sucks! Corona sucks! Corona sucks! Corona sucks! Corona sucks! Corona sucks! Corona sucks! Corona sucks! Corona sucks! Corona sucks! Corona sucks! Corona sucks! Corona sucks! Corona sucks! Corona sucks! Corona sucks! Corona sucks! Corona sucks! Corona sucks! Corona sucks! Corona sucks! Corona sucks! Corona sucks! Corona sucks! Corona sucks! Corona sucks! Corona sucks! Corona sucks! Corona sucks! Corona sucks! Corona sucks! Corona sucks! Corona sucks! Corona sucks! Corona sucks! Corona sucks! Corona sucks! Corona sucks! Corona sucks! Corona sucks! Corona sucks! Corona sucks! Corona sucks! Corona sucks! Corona sucks! Corona sucks! Corona sucks! Corona sucks! Corona sucks! Corona sucks! Corona sucks! Corona sucks! Corona sucks! Corona sucks! Corona sucks! Corona sucks! Corona sucks! Corona sucks! Corona sucks! Corona sucks! Corona sucks! Corona sucks! Corona sucks! Corona sucks! Corona sucks! Corona sucks! Corona sucks! Corona sucks! Corona sucks! Corona sucks! Corona sucks! Corona sucks! Corona sucks! Corona sucks! Corona sucks! Corona sucks! Corona sucks! Corona sucks! Corona sucks! Corona sucks! Corona sucks! Corona sucks! Corona sucks! Corona sucks! Corona sucks! Corona sucks! Corona sucks! Corona sucks! Corona sucks! Corona sucks! Corona sucks! Corona sucks! Corona sucks! Corona sucks! Corona sucks! Corona sucks! Corona sucks! Corona sucks! Corona sucks! Corona sucks! Corona sucks! Corona sucks! Corona sucks! Corona sucks! Corona sucks! Corona sucks! Corona sucks! Corona sucks! Corona sucks! Corona sucks! Corona sucks! Corona sucks! Corona sucks! Corona sucks! Corona sucks! Corona sucks! Corona sucks! Corona sucks! Corona sucks! Corona sucks! Corona sucks! Corona sucks! Corona sucks! Corona sucks! Corona sucks! Corona sucks! Corona sucks! Corona sucks! Corona sucks! Corona sucks! Corona sucks! Corona sucks! Corona sucks! Corona sucks! Corona sucks! Corona sucks! Corona sucks! Corona sucks! Corona sucks! Corona sucks! Corona sucks! Corona sucks! Corona sucks! Corona sucks! Corona sucks! Corona sucks! Corona sucks! Corona sucks! Corona sucks! Corona sucks! Corona sucks! Corona sucks! Corona sucks! Corona sucks! Corona sucks! Corona sucks! Corona sucks! Corona sucks! Corona sucks! Corona sucks! Corona sucks! Corona sucks! Corona sucks! Corona sucks! Corona sucks! Corona sucks! Corona sucks! Corona sucks! Corona sucks! Corona sucks! Corona sucks! Corona sucks! Corona sucks! Corona sucks! Corona sucks! Corona sucks! Corona sucks! Corona sucks! Corona sucks! Corona sucks! Corona sucks! Corona sucks! Corona sucks! Corona sucks! Corona sucks! Corona sucks! Corona sucks! Corona sucks! Corona sucks! Corona sucks! Corona sucks! Corona sucks! Corona sucks! Corona sucks! Corona sucks! Corona sucks! Corona sucks! Corona sucks! Corona sucks! Corona sucks! Corona sucks! Corona sucks! Corona sucks! Corona sucks! Corona sucks! Corona sucks! Corona sucks! Corona sucks! Corona sucks! Corona sucks! Corona sucks! Corona sucks! Corona sucks! Corona sucks! Corona sucks! Corona sucks! Corona sucks! Corona sucks! Corona sucks! Corona sucks! Corona sucks! Corona sucks! Corona sucks! Corona sucks! Corona sucks! Corona sucks! Corona sucks! Corona sucks! Corona sucks! Corona sucks! Corona sucks! Corona sucks! Corona sucks! Corona sucks! Corona sucks! Corona sucks! Corona sucks! Corona sucks! Corona sucks! Corona sucks! Corona sucks! Corona sucks! Corona sucks! Corona sucks! Corona sucks! Corona sucks! Corona sucks! Corona sucks! Corona sucks! Corona sucks! Corona sucks! Corona sucks! Corona sucks! Corona sucks! Corona sucks! Corona sucks! Corona sucks! Corona sucks! Corona sucks! Corona sucks! Corona sucks! Corona sucks! Corona sucks! Corona sucks! Corona sucks! Corona sucks! Corona sucks! Corona sucks! Corona sucks! Corona sucks! Corona sucks! Corona sucks! Corona sucks! Corona sucks! Corona sucks! Corona sucks! Corona sucks! Corona sucks! Corona sucks! Corona sucks! Corona sucks! Corona sucks! Corona sucks! Corona sucks! Corona sucks! Corona sucks! Corona sucks! Corona sucks! Corona sucks! Corona sucks! Corona sucks! Corona sucks! Corona sucks! Corona sucks! Corona sucks! Corona sucks! Corona sucks! Corona sucks! Corona sucks! Corona sucks! Corona sucks! Corona sucks! Corona sucks! Corona sucks! Corona sucks! Corona sucks! Corona sucks! Corona sucks! Corona sucks! Corona sucks! Corona sucks! Corona sucks! Corona sucks! Corona sucks! Corona sucks! Corona sucks! Corona sucks! Corona sucks! Corona sucks! Corona sucks! Corona sucks! Corona sucks! Corona sucks! Corona sucks! Corona sucks! Corona sucks! Corona sucks! Corona sucks! Corona sucks! Corona sucks! Corona sucks! Corona sucks! Corona sucks! Corona sucks! Corona sucks! Corona sucks! Corona sucks! Corona sucks! Corona sucks! Corona sucks! Corona sucks! Corona sucks! Corona sucks! Corona sucks! Corona sucks! Corona sucks! Corona sucks! Corona sucks! Corona sucks! Corona sucks! Corona sucks! Corona sucks! Corona sucks! Corona sucks! Corona sucks! Corona sucks! Corona sucks! Corona sucks! Corona sucks! Corona sucks! Corona sucks! Corona sucks! Corona sucks! Corona sucks! Corona sucks! Corona sucks! Corona sucks! Corona sucks! Corona sucks! Corona sucks! Corona sucks! Corona sucks! Corona sucks! Corona sucks! Corona sucks! Corona sucks! Corona sucks! Corona sucks! Corona sucks! Corona sucks! Corona sucks! Corona sucks! Corona sucks! Corona sucks! Corona sucks! Corona sucks! Corona sucks! Corona sucks! Corona sucks! Corona sucks! Corona sucks! Corona sucks! Corona sucks! Corona sucks! Corona sucks! Corona sucks! Corona sucks! Corona sucks! Corona sucks! Corona sucks! Corona sucks! Corona sucks! Corona sucks! Corona sucks! Corona sucks! Corona sucks! Corona sucks! Corona sucks! Corona sucks! Corona sucks! Corona sucks! Corona sucks! Corona sucks! Corona sucks! Corona sucks! Corona sucks! Corona sucks! Corona sucks! Corona sucks! Corona sucks! Corona sucks! Corona sucks! Corona sucks! Corona sucks! Corona sucks! Corona sucks! Corona sucks! Corona sucks! Corona sucks! Corona sucks! Corona sucks! Corona sucks! Corona sucks! Corona sucks! Corona sucks! Corona sucks! Corona sucks! Corona sucks! Corona sucks! Corona sucks! Corona sucks! Corona sucks! Corona sucks! Corona sucks! Corona sucks! Corona sucks! Corona sucks! Corona sucks! Corona sucks! Corona sucks! Corona sucks! Corona sucks! Corona sucks! Corona sucks! Corona sucks! Corona sucks! Corona sucks! Corona sucks! Corona sucks! Corona sucks! Corona sucks! Corona sucks! Corona sucks! Corona sucks! Corona sucks! Corona sucks! Corona sucks! Corona sucks! Corona sucks! Corona sucks! Corona sucks! Corona sucks! Corona sucks! Corona sucks! Corona sucks! Corona sucks! Corona sucks! Corona sucks! Corona sucks! Corona sucks! Corona sucks! Corona sucks! Corona sucks! Corona sucks! Corona sucks! Corona sucks! Corona sucks! Corona sucks! Corona sucks! Corona sucks! Corona sucks! Corona sucks! Corona sucks! Corona sucks! Corona sucks! Corona sucks! Corona sucks! Corona sucks! Corona sucks! Corona sucks! Corona sucks! Corona sucks! Corona sucks! Corona sucks! Corona sucks! Corona sucks! Corona sucks! Corona sucks! Corona sucks! Corona sucks! Corona sucks! Corona sucks! Corona sucks! Corona sucks! Corona sucks! Corona sucks! Corona sucks! Corona sucks! Corona sucks! Corona sucks! Corona sucks! Corona sucks! Corona sucks! Corona sucks! Corona sucks! Corona sucks! Corona sucks! Corona sucks! Corona sucks! Corona sucks! Corona sucks! Corona sucks! Corona sucks! Corona sucks! Corona sucks! Corona sucks! Corona sucks! Corona sucks! Corona sucks! Corona sucks! Corona sucks! Corona sucks! Corona sucks! Corona sucks! Corona sucks! Corona sucks! Corona sucks! Corona sucks! Corona sucks! Corona sucks! Corona sucks! Corona sucks! Corona sucks! Corona sucks! Corona sucks! Corona sucks! Corona sucks! Corona sucks! Corona sucks! Corona sucks! Corona sucks! Corona sucks! Corona sucks! Corona sucks! Corona sucks! Corona sucks! Corona sucks! Corona sucks! Corona sucks! Corona sucks! Corona sucks! Corona sucks! Corona sucks! \n"
          ],
          "name": "stdout"
        }
      ]
    },
    {
      "cell_type": "markdown",
      "metadata": {
        "id": "4AQwaxiOFN8V"
      },
      "source": [
        "## String Slicing"
      ]
    },
    {
      "cell_type": "markdown",
      "metadata": {
        "id": "ZoFzQkhzFN8V"
      },
      "source": [
        "Slices through the string like in a list. Range slice gives you the characters from a given range where just the index gives you the referring character"
      ]
    },
    {
      "cell_type": "code",
      "metadata": {
        "id": "dGyxEr5EFN8W",
        "colab": {
          "base_uri": "https://localhost:8080/",
          "height": 85
        },
        "outputId": "4bd15e33-6d05-4567-e0ca-c0c535044bd0"
      },
      "source": [
        "string1 = \"Apfelkuchen\"\n",
        "index1 = string1[0]\n",
        "index2 = string1[-1]\n",
        "range1 = string1[1:4]\n",
        "range2 = string1[:5]\n",
        "\n",
        "print(\"Hier ist der Index 1: \" + index1)\n",
        "print(\"Hier ist der Index 2: \" + index2)\n",
        "print(\"Hier ist die Range 1: \" + range1)\n",
        "print(\"Hier ist die Range 2: \" + range2)"
      ],
      "execution_count": null,
      "outputs": [
        {
          "output_type": "stream",
          "text": [
            "Hier ist der Index 1: A\n",
            "Hier ist der Index 2: n\n",
            "Hier ist die Range 1: pfe\n",
            "Hier ist die Range 2: Apfel\n"
          ],
          "name": "stdout"
        }
      ]
    },
    {
      "cell_type": "markdown",
      "metadata": {
        "id": "_m6ByNjqFN8X"
      },
      "source": [
        "## Membership \"in\""
      ]
    },
    {
      "cell_type": "markdown",
      "metadata": {
        "id": "60GiBtsWFN8Y"
      },
      "source": [
        "Checks if the character exists in the given string and return True if that is the case!"
      ]
    },
    {
      "cell_type": "code",
      "metadata": {
        "id": "Yt5dFHbsFN8Y",
        "colab": {
          "base_uri": "https://localhost:8080/",
          "height": 34
        },
        "outputId": "39002405-463e-47c9-8be8-e76a6ee4b460"
      },
      "source": [
        "string3 = \"Allerlei Sachen\"\n",
        "cond1 = \"All\" in string3\n",
        "print(cond1)"
      ],
      "execution_count": null,
      "outputs": [
        {
          "output_type": "stream",
          "text": [
            "True\n"
          ],
          "name": "stdout"
        }
      ]
    },
    {
      "cell_type": "markdown",
      "metadata": {
        "id": "mDUxef_IFN8a"
      },
      "source": [
        "## String Formatting"
      ]
    },
    {
      "cell_type": "markdown",
      "metadata": {
        "id": "WrBjzFUNFN8a"
      },
      "source": [
        "There are 2 ways to in order to format your strings. The difference comes from the different versions of python. In python 3, \"f-strings\" are introduced for the first time. "
      ]
    },
    {
      "cell_type": "markdown",
      "metadata": {
        "id": "QjRu0LpFFN8b"
      },
      "source": [
        "### Old Formatting Style "
      ]
    },
    {
      "cell_type": "code",
      "metadata": {
        "id": "nnEM2JJLFN8b",
        "colab": {
          "base_uri": "https://localhost:8080/"
        },
        "outputId": "a6a24be5-cfeb-4c64-dac4-089e60ac6924"
      },
      "source": [
        "num = 10\n",
        "string4 = \"I have {} favorite movies.\".format(num)\n",
        "print(string4)"
      ],
      "execution_count": null,
      "outputs": [
        {
          "output_type": "stream",
          "text": [
            "I have 10 favorite movies.\n"
          ],
          "name": "stdout"
        }
      ]
    },
    {
      "cell_type": "markdown",
      "metadata": {
        "id": "QGYwIBrjFN8d"
      },
      "source": [
        "### F-Strings Style "
      ]
    },
    {
      "cell_type": "code",
      "metadata": {
        "id": "DSKeFBogFN8e",
        "colab": {
          "base_uri": "https://localhost:8080/",
          "height": 34
        },
        "outputId": "5f56ccfe-e3ba-4e26-dbf1-9cfa93bddc7c"
      },
      "source": [
        "num = 10\n",
        "string4 = f\"I have {num} favorite movies.\"\n",
        "print(string4)"
      ],
      "execution_count": null,
      "outputs": [
        {
          "output_type": "stream",
          "text": [
            "I have 10 favorite movies.\n"
          ],
          "name": "stdout"
        }
      ]
    },
    {
      "cell_type": "markdown",
      "metadata": {
        "id": "Sm8ow5V0FN8h"
      },
      "source": [
        "## Mini Challenge I"
      ]
    },
    {
      "cell_type": "markdown",
      "metadata": {
        "id": "qENUx1XzFN8i"
      },
      "source": [
        "### Create a string variable:\n",
        "Hey {your name}, Star Wars is way better than Star Trek!"
      ]
    },
    {
      "cell_type": "code",
      "metadata": {
        "id": "_BM9KIGUd1Cf"
      },
      "source": [
        ""
      ],
      "execution_count": null,
      "outputs": []
    },
    {
      "cell_type": "markdown",
      "metadata": {
        "id": "dl7E5FfeFN8j"
      },
      "source": [
        "### Convert everything to lowercase"
      ]
    },
    {
      "cell_type": "code",
      "metadata": {
        "id": "-jthbU0YFN8k"
      },
      "source": [
        ""
      ],
      "execution_count": null,
      "outputs": []
    },
    {
      "cell_type": "markdown",
      "metadata": {
        "id": "jsMC1ObKFN8l"
      },
      "source": [
        "### Slice the word - Star Wars - out of original string and save in new string variable"
      ]
    },
    {
      "cell_type": "code",
      "metadata": {
        "id": "VO_6jM5ZFN8m"
      },
      "source": [
        ""
      ],
      "execution_count": null,
      "outputs": []
    },
    {
      "cell_type": "markdown",
      "metadata": {
        "id": "gn0kH6kSFN8o"
      },
      "source": [
        "### Format the newly created in the new string:\n",
        "OMG, you’re right, {here} is way better!\n"
      ]
    },
    {
      "cell_type": "code",
      "metadata": {
        "id": "Kt-thYsOFN8o"
      },
      "source": [
        ""
      ],
      "execution_count": null,
      "outputs": []
    },
    {
      "cell_type": "markdown",
      "metadata": {
        "id": "5tcWWpRLFN8q"
      },
      "source": [
        "### And finally add \"better\" 10 times to your last string\n",
        "OMG, you’re right, STAR WARS is way better, better, better, better,...., better!"
      ]
    },
    {
      "cell_type": "code",
      "metadata": {
        "id": "Ndze-JJyFN8q"
      },
      "source": [
        ""
      ],
      "execution_count": null,
      "outputs": []
    },
    {
      "cell_type": "markdown",
      "metadata": {
        "id": "KxJnFfCHFN8s"
      },
      "source": [
        "## List Comprehension"
      ]
    },
    {
      "cell_type": "markdown",
      "metadata": {
        "id": "ashMR_CZFN8s"
      },
      "source": [
        "Each list comprehension contains an _expression_ and then _for_ clause. "
      ]
    },
    {
      "cell_type": "code",
      "metadata": {
        "id": "PfPLCMJ7FN8s",
        "colab": {
          "base_uri": "https://localhost:8080/",
          "height": 34
        },
        "outputId": "1bc0ccb8-0eea-4a5b-946f-950ebd8cfcd8"
      },
      "source": [
        "list1 = [1,2,3,4,5]\n",
        "list2 = [x+1 for x in list1]\n",
        "print(list2)"
      ],
      "execution_count": null,
      "outputs": [
        {
          "output_type": "stream",
          "text": [
            "[2, 3, 4, 5, 6]\n"
          ],
          "name": "stdout"
        }
      ]
    },
    {
      "cell_type": "code",
      "metadata": {
        "id": "LdaH1sJ2FN8u",
        "colab": {
          "base_uri": "https://localhost:8080/",
          "height": 34
        },
        "outputId": "dc8ffbce-f728-4254-f36b-2fd8c90d9fe2"
      },
      "source": [
        "list1 = [1,2,3,4,5]\n",
        "list2 = [x+1 for x in list1]\n",
        "list3 = [x*2 for x in list2]\n",
        "print(list3)"
      ],
      "execution_count": null,
      "outputs": [
        {
          "output_type": "stream",
          "text": [
            "[4, 6, 8, 10, 12]\n"
          ],
          "name": "stdout"
        }
      ]
    },
    {
      "cell_type": "markdown",
      "metadata": {
        "id": "NiTTzc_WFN8w"
      },
      "source": [
        "## List Operations\n"
      ]
    },
    {
      "cell_type": "markdown",
      "metadata": {
        "id": "-YrSJhtGFN8w"
      },
      "source": [
        "Just a quick summary of the most common list operations. "
      ]
    },
    {
      "cell_type": "markdown",
      "metadata": {
        "id": "3d82aPuJFN8w"
      },
      "source": [
        "### Append, Insert, Remove\n"
      ]
    },
    {
      "cell_type": "markdown",
      "metadata": {
        "id": "lwvBv78LFN8w"
      },
      "source": [
        "Wow! The same list showed up twice! Why?"
      ]
    },
    {
      "cell_type": "code",
      "metadata": {
        "id": "24ulMmqvFN8x",
        "outputId": "53712087-ff88-4386-c846-01b12ce9d04d"
      },
      "source": [
        "list1 = [90,12,3, [\"Katze\", 2], \"Hund\"]\n",
        "list2 = list1\n",
        "list1.append(99)\n",
        "list2.insert(2, \"Element\")\n",
        "\n",
        "print(list1)\n",
        "print(list2)"
      ],
      "execution_count": null,
      "outputs": [
        {
          "output_type": "stream",
          "text": [
            "[90, 12, 'Element', 3, ['Katze', 2], 'Hund', 99]\n",
            "[90, 12, 'Element', 3, ['Katze', 2], 'Hund', 99]\n"
          ],
          "name": "stdout"
        }
      ]
    },
    {
      "cell_type": "markdown",
      "metadata": {
        "id": "_H7Ca-hKFN8y"
      },
      "source": [
        "Now, let's do some changes!"
      ]
    },
    {
      "cell_type": "code",
      "metadata": {
        "id": "M3L0H20oFN8z",
        "colab": {
          "base_uri": "https://localhost:8080/",
          "height": 68
        },
        "outputId": "0d85123e-f148-4c3f-a658-4d73904a2ace"
      },
      "source": [
        "list1 = [90,12,3, [\"Katze\", 2], \"Hund\"]\n",
        "list2 = list1.copy()\n",
        "list1.append(99)\n",
        "list2.insert(2, \"Element\")\n",
        "print(list1)\n",
        "print(list2)\n",
        "\n",
        "list3 = [90,12,3, [\"Katze\", 2], \"Hund\"]\n",
        "list3.remove(90)\n",
        "print(list3)"
      ],
      "execution_count": null,
      "outputs": [
        {
          "output_type": "stream",
          "text": [
            "[90, 12, 3, ['Katze', 2], 'Hund', 99]\n",
            "[12, 3, ['Katze', 2], 'Hund']\n",
            "[90, 12, 'Element', 3, ['Katze', 2], 'Hund']\n"
          ],
          "name": "stdout"
        }
      ]
    },
    {
      "cell_type": "markdown",
      "metadata": {
        "id": "0of6aZpnFN83"
      },
      "source": [
        "### Sort & Reverse\n"
      ]
    },
    {
      "cell_type": "markdown",
      "metadata": {
        "id": "3X34cWAbFN83"
      },
      "source": [
        "First let us look at the sort"
      ]
    },
    {
      "cell_type": "code",
      "metadata": {
        "id": "-NTziB0NFN83",
        "colab": {
          "base_uri": "https://localhost:8080/",
          "height": 232
        },
        "outputId": "04f6f44b-8cd8-4388-bf2a-8dbbf15bf81e"
      },
      "source": [
        "list1 = [90,12,20,23]\n",
        "list2 = [\"Manfred\", \"Lisa\", \"Stefan\", \"Hanna\"]\n",
        "\n",
        "\n",
        "list3 = [\"Strello\", 1, 2, 6, \"Wooop\"]\n",
        "list3.sort()\n",
        "list1.sort()\n",
        "list2.sort()\n",
        "print(list1, \"\\n\")\n",
        "print(list2, \"\\n\")\n",
        "\n",
        "list1.sort(reverse = True)\n",
        "print(list1)"
      ],
      "execution_count": null,
      "outputs": [
        {
          "output_type": "error",
          "ename": "TypeError",
          "evalue": "ignored",
          "traceback": [
            "\u001b[0;31m---------------------------------------------------------------------------\u001b[0m",
            "\u001b[0;31mTypeError\u001b[0m                                 Traceback (most recent call last)",
            "\u001b[0;32m<ipython-input-9-3abb2fe4576b>\u001b[0m in \u001b[0;36m<module>\u001b[0;34m()\u001b[0m\n\u001b[1;32m      4\u001b[0m \u001b[0;34m\u001b[0m\u001b[0m\n\u001b[1;32m      5\u001b[0m \u001b[0mlist3\u001b[0m \u001b[0;34m=\u001b[0m \u001b[0;34m[\u001b[0m\u001b[0;34m\"Strello\"\u001b[0m\u001b[0;34m,\u001b[0m \u001b[0;36m1\u001b[0m\u001b[0;34m,\u001b[0m \u001b[0;36m2\u001b[0m\u001b[0;34m,\u001b[0m \u001b[0;36m6\u001b[0m\u001b[0;34m,\u001b[0m \u001b[0;34m\"Wooop\"\u001b[0m\u001b[0;34m]\u001b[0m\u001b[0;34m\u001b[0m\u001b[0;34m\u001b[0m\u001b[0m\n\u001b[0;32m----> 6\u001b[0;31m \u001b[0mlist3\u001b[0m\u001b[0;34m.\u001b[0m\u001b[0msort\u001b[0m\u001b[0;34m(\u001b[0m\u001b[0;34m)\u001b[0m\u001b[0;34m\u001b[0m\u001b[0;34m\u001b[0m\u001b[0m\n\u001b[0m\u001b[1;32m      7\u001b[0m \u001b[0mlist1\u001b[0m\u001b[0;34m.\u001b[0m\u001b[0msort\u001b[0m\u001b[0;34m(\u001b[0m\u001b[0;34m)\u001b[0m\u001b[0;34m\u001b[0m\u001b[0;34m\u001b[0m\u001b[0m\n\u001b[1;32m      8\u001b[0m \u001b[0mlist2\u001b[0m\u001b[0;34m.\u001b[0m\u001b[0msort\u001b[0m\u001b[0;34m(\u001b[0m\u001b[0;34m)\u001b[0m\u001b[0;34m\u001b[0m\u001b[0;34m\u001b[0m\u001b[0m\n",
            "\u001b[0;31mTypeError\u001b[0m: '<' not supported between instances of 'int' and 'str'"
          ]
        }
      ]
    },
    {
      "cell_type": "markdown",
      "metadata": {
        "id": "G9akTjcTFN85"
      },
      "source": [
        "Now, reverse!"
      ]
    },
    {
      "cell_type": "code",
      "metadata": {
        "id": "xlfboEmGFN85",
        "colab": {
          "base_uri": "https://localhost:8080/",
          "height": 85
        },
        "outputId": "857953b2-876f-42d0-8869-3f2b73cd4db1"
      },
      "source": [
        "list1 = [90,12,20,23]\n",
        "list2 = [\"Manfred\", \"Lisa\", \"Stefan\", \"Hanna\"]\n",
        "\n",
        "list1.reverse()\n",
        "list2.reverse()\n",
        "print(list1, \"\\n\")\n",
        "print(list2, \"\\n\")\n",
        "\n"
      ],
      "execution_count": null,
      "outputs": [
        {
          "output_type": "stream",
          "text": [
            "[23, 20, 12, 90] \n",
            "\n",
            "['Hanna', 'Stefan', 'Lisa', 'Manfred'] \n",
            "\n"
          ],
          "name": "stdout"
        }
      ]
    },
    {
      "cell_type": "markdown",
      "metadata": {
        "id": "rY2MoUR6FN86"
      },
      "source": [
        "## Tuples in Python\n"
      ]
    },
    {
      "cell_type": "markdown",
      "metadata": {
        "id": "gxW9xoS3FN87"
      },
      "source": [
        "Just a quick summary of the most common list operations. "
      ]
    },
    {
      "cell_type": "code",
      "metadata": {
        "id": "tiXqGzgJFN87",
        "colab": {
          "base_uri": "https://localhost:8080/",
          "height": 68
        },
        "outputId": "820738a4-add5-4d8f-f360-cdbf443377ac"
      },
      "source": [
        "tuple1 = (\"tuples\", \"are \", \"awesome\")\n",
        "tuple2 = (\"still\", \"great\")\n",
        "sin_tuple = (1,)\n",
        "print(tuple1)\n",
        "print(tuple2)\n",
        "print(sin_tuple)"
      ],
      "execution_count": null,
      "outputs": [
        {
          "output_type": "stream",
          "text": [
            "('tuples', 'are ', 'awesome')\n",
            "('still', 'great')\n",
            "(1,)\n"
          ],
          "name": "stdout"
        }
      ]
    },
    {
      "cell_type": "markdown",
      "metadata": {
        "id": "7CBZs3qQFN88"
      },
      "source": [
        "What happens if we try to change a value?!"
      ]
    },
    {
      "cell_type": "code",
      "metadata": {
        "scrolled": true,
        "id": "Zm6bt-r2FN89",
        "colab": {
          "base_uri": "https://localhost:8080/",
          "height": 232
        },
        "outputId": "1413c404-5f25-4dcd-fceb-cd727c3779a8"
      },
      "source": [
        "tuple1 = (\"tuples\", \"are \", \"awesome\")\n",
        "tuple2 = (\"still\", \"great\")\n",
        "tuple1[1] = \"were\"\n",
        "\n",
        "print(tuple1)\n",
        "print(tuple2)"
      ],
      "execution_count": null,
      "outputs": [
        {
          "output_type": "error",
          "ename": "TypeError",
          "evalue": "ignored",
          "traceback": [
            "\u001b[0;31m---------------------------------------------------------------------------\u001b[0m",
            "\u001b[0;31mTypeError\u001b[0m                                 Traceback (most recent call last)",
            "\u001b[0;32m<ipython-input-33-afce47c1d8ed>\u001b[0m in \u001b[0;36m<module>\u001b[0;34m()\u001b[0m\n\u001b[1;32m      1\u001b[0m \u001b[0mtuple1\u001b[0m \u001b[0;34m=\u001b[0m \u001b[0;34m(\u001b[0m\u001b[0;34m\"tuples\"\u001b[0m\u001b[0;34m,\u001b[0m \u001b[0;34m\"are \"\u001b[0m\u001b[0;34m,\u001b[0m \u001b[0;34m\"awesome\"\u001b[0m\u001b[0;34m)\u001b[0m\u001b[0;34m\u001b[0m\u001b[0;34m\u001b[0m\u001b[0m\n\u001b[1;32m      2\u001b[0m \u001b[0mtuple2\u001b[0m \u001b[0;34m=\u001b[0m \u001b[0;34m(\u001b[0m\u001b[0;34m\"still\"\u001b[0m\u001b[0;34m,\u001b[0m \u001b[0;34m\"great\"\u001b[0m\u001b[0;34m)\u001b[0m\u001b[0;34m\u001b[0m\u001b[0;34m\u001b[0m\u001b[0m\n\u001b[0;32m----> 3\u001b[0;31m \u001b[0mtuple1\u001b[0m\u001b[0;34m[\u001b[0m\u001b[0;36m1\u001b[0m\u001b[0;34m]\u001b[0m \u001b[0;34m=\u001b[0m \u001b[0;34m\"were\"\u001b[0m\u001b[0;34m\u001b[0m\u001b[0;34m\u001b[0m\u001b[0m\n\u001b[0m\u001b[1;32m      4\u001b[0m \u001b[0;34m\u001b[0m\u001b[0m\n\u001b[1;32m      5\u001b[0m \u001b[0mprint\u001b[0m\u001b[0;34m(\u001b[0m\u001b[0mtuple1\u001b[0m\u001b[0;34m)\u001b[0m\u001b[0;34m\u001b[0m\u001b[0;34m\u001b[0m\u001b[0m\n",
            "\u001b[0;31mTypeError\u001b[0m: 'tuple' object does not support item assignment"
          ]
        }
      ]
    },
    {
      "cell_type": "markdown",
      "metadata": {
        "id": "K6Y3zv2NFN8_"
      },
      "source": [
        "Ok, ok and what about this?"
      ]
    },
    {
      "cell_type": "code",
      "metadata": {
        "id": "W3enIE5GFN8_",
        "outputId": "f4fade0d-328d-4f3d-c467-75d0d2a82182"
      },
      "source": [
        "tuple1 = (\"tuples\", \"are \", \"awesome\")\n",
        "tuple2 = (\"still\", \"great\")\n",
        "tuple2 = tuple1\n",
        "\n",
        "print(tuple1)\n",
        "print(tuple2)"
      ],
      "execution_count": null,
      "outputs": [
        {
          "output_type": "stream",
          "text": [
            "('tuples', 'are ', 'awesome')\n",
            "('tuples', 'are ', 'awesome')\n"
          ],
          "name": "stdout"
        }
      ]
    },
    {
      "cell_type": "markdown",
      "metadata": {
        "id": "Oir5g0bSFN9B"
      },
      "source": [
        "This means that tupls are immutable, but we still can extend the tuples with another trick"
      ]
    },
    {
      "cell_type": "code",
      "metadata": {
        "id": "Qjb-HhbAFN9B",
        "colab": {
          "base_uri": "https://localhost:8080/",
          "height": 51
        },
        "outputId": "9237595e-069d-4943-d654-ef3fe954a72f"
      },
      "source": [
        "tuple1 = (\"tuples\", \"are \", \"awesome\")\n",
        "tuple2 = (\"still\", \"great\")\n",
        "tuple2 = tuple1+tuple2 \n",
        "\n",
        "print(tuple1)\n",
        "print(tuple2)"
      ],
      "execution_count": null,
      "outputs": [
        {
          "output_type": "stream",
          "text": [
            "('tuples', 'are ', 'awesome')\n",
            "('tuples', 'are ', 'awesome', 'still', 'great')\n"
          ],
          "name": "stdout"
        }
      ]
    },
    {
      "cell_type": "markdown",
      "metadata": {
        "id": "DoZJ5T1DFN9D"
      },
      "source": [
        "## Dictionaries in Python\n"
      ]
    },
    {
      "cell_type": "markdown",
      "metadata": {
        "id": "MYtLLNWlFN9D"
      },
      "source": [
        "Another way to store variables is with dictionaries!"
      ]
    },
    {
      "cell_type": "code",
      "metadata": {
        "id": "1Qy5S8q5FN9D",
        "colab": {
          "base_uri": "https://localhost:8080/"
        },
        "outputId": "919ed3ee-e952-44eb-f002-186c286590cb"
      },
      "source": [
        "dict1 = {\"item1\": 5, \"item2\": 3, \"item3\": 10}\n",
        "dict2 = {1: \"Tomas\", 2: \"Sandra\", 3: \"Luca\"}\n",
        "\n",
        "print(dict1)\n",
        "print(dict1.keys())\n",
        "print(dict2.values())"
      ],
      "execution_count": null,
      "outputs": [
        {
          "output_type": "stream",
          "text": [
            "{'item1': 5, 'item2': 3, 'item3': 10}\n",
            "dict_keys(['item1', 'item2', 'item3'])\n",
            "dict_values(['Tomas', 'Sandra', 'Luca'])\n"
          ],
          "name": "stdout"
        }
      ]
    },
    {
      "cell_type": "markdown",
      "metadata": {
        "id": "UjW8_9NOFN9F"
      },
      "source": [
        "what about other methods"
      ]
    },
    {
      "cell_type": "code",
      "metadata": {
        "id": "h8KwtOu0FN9F",
        "colab": {
          "base_uri": "https://localhost:8080/"
        },
        "outputId": "a599865e-531d-4d18-f263-0ee4309d541b"
      },
      "source": [
        "dict1 = {\"item1\": 5, \"item2\": 3, \"item3\": 10}\n",
        "dict2 = {1: \"Tomas\", 2: \"Sandra\", 3: \"Luca\"}\n",
        "dict3 = {1: \"I\", 2: \"love\", 3: \"Javi\"}\n",
        "cond1 = dict1.get(\"Marvel\", None)\n",
        "a = len(dict1)\n",
        "b = 1 in dict1\n",
        "dict1.update(dict3)\n",
        "\n",
        "print(cond1)\n",
        "print(a)\n",
        "print(b)\n",
        "print(dict1)"
      ],
      "execution_count": null,
      "outputs": [
        {
          "output_type": "stream",
          "text": [
            "None\n",
            "3\n",
            "False\n",
            "{'item1': 5, 'item2': 3, 'item3': 10, 1: 'I', 2: 'love', 3: 'Javi'}\n"
          ],
          "name": "stdout"
        }
      ]
    },
    {
      "cell_type": "markdown",
      "metadata": {
        "id": "5XoVwif0FN9H"
      },
      "source": [
        "## Mutable vs. Immutable"
      ]
    },
    {
      "cell_type": "code",
      "metadata": {
        "id": "PCshzHf4FN9H",
        "colab": {
          "base_uri": "https://localhost:8080/"
        },
        "outputId": "7518ab9e-d5de-4d0c-a391-e314d0fc3864"
      },
      "source": [
        "x = 10\n",
        "y = 10\n",
        "\n",
        "print(id(x))\n",
        "print(id(y))"
      ],
      "execution_count": null,
      "outputs": [
        {
          "output_type": "stream",
          "text": [
            "10914784\n",
            "10914784\n"
          ],
          "name": "stdout"
        }
      ]
    },
    {
      "cell_type": "markdown",
      "metadata": {
        "id": "I9W7id94FN9K"
      },
      "source": [
        "###Note!\n",
        "\n",
        "The identity has to be unique and constant for this object during the lifetime. \n",
        "\n",
        "Two objects with non-overlapping lifetimes may have the same id() value. \n",
        "If we relate this to C, then they are actually the memory addresses. \n",
        "Here in Python it is the unique id. \n",
        "\n",
        "This function is generally used internally in Python."
      ]
    },
    {
      "cell_type": "code",
      "metadata": {
        "id": "bnGv8nvzFN9K",
        "colab": {
          "base_uri": "https://localhost:8080/"
        },
        "outputId": "fcc9284e-d533-471f-a664-7681b92c36fe"
      },
      "source": [
        "x = x + 1\n",
        "\n",
        "print(id(x))\n",
        "print(id(y))\n",
        "print(\"There is a change of address, it did not change the original object\")"
      ],
      "execution_count": null,
      "outputs": [
        {
          "output_type": "stream",
          "text": [
            "10914816\n",
            "10914784\n",
            "There is a change of address, it did not change the original object\n"
          ],
          "name": "stdout"
        }
      ]
    },
    {
      "cell_type": "code",
      "metadata": {
        "id": "DNela6zXFN9M",
        "colab": {
          "base_uri": "https://localhost:8080/"
        },
        "outputId": "20e3391b-ee3f-408b-eaa1-083bd03b19c1"
      },
      "source": [
        "m = [1,2,3,4,5,6,7,8]\n",
        "n = m\n",
        "print(id(m))\n",
        "print(id(n))"
      ],
      "execution_count": null,
      "outputs": [
        {
          "output_type": "stream",
          "text": [
            "140501391217480\n",
            "140501391217480\n"
          ],
          "name": "stdout"
        }
      ]
    },
    {
      "cell_type": "code",
      "metadata": {
        "id": "tkjAhJL5FN9N",
        "colab": {
          "base_uri": "https://localhost:8080/"
        },
        "outputId": "83d3b16c-c1b6-45f5-e14f-97a3995a8a48"
      },
      "source": [
        "print(m.pop())\n",
        "print(id(m))\n",
        "print(id(n))\n",
        "print(\"It did change the original object\")\n",
        "print(n)\n",
        "print(m)"
      ],
      "execution_count": null,
      "outputs": [
        {
          "output_type": "stream",
          "text": [
            "8\n",
            "140501391217480\n",
            "140501391217480\n",
            "It did change the original object\n",
            "[1, 2, 3, 4, 5, 6, 7]\n",
            "[1, 2, 3, 4, 5, 6, 7]\n"
          ],
          "name": "stdout"
        }
      ]
    },
    {
      "cell_type": "markdown",
      "metadata": {
        "id": "W6I31U3cFN9Q"
      },
      "source": [
        "__One additional thing__\n"
      ]
    },
    {
      "cell_type": "markdown",
      "metadata": {
        "id": "3IHEYiXtFN9Q"
      },
      "source": [
        "We know that tuples are immutable. This means that the value of the tuple cannot be changed after created. But the \"value\" is just a sequence of names with unchangeable bindings to the object. The key thing is to note that the bindings are not changeable, but the objects in there are. "
      ]
    },
    {
      "cell_type": "code",
      "metadata": {
        "id": "UYB5QdE6FN9Q",
        "colab": {
          "base_uri": "https://localhost:8080/",
          "height": 436
        },
        "outputId": "2f31c41b-015f-4d02-8c9a-bb27121205a2"
      },
      "source": [
        "t1 = (\"holbert\", [1,2,3])\n",
        "print(t1)\n",
        "print(id(t1), '\\n')\n",
        "\n",
        "t2 = (\"amazing\", \"spiderman\")\n",
        "print(t2)\n",
        "print(id(t2), '\\n')\n",
        "\n",
        "t1 = t1 + t2\n",
        "print(t1)\n",
        "print(id(t1), '\\n') # Different object now\n",
        "\n",
        "t1[1].append(\"A new World\")\n",
        "print(t1)\n",
        "print(id(t1), '\\n')\n",
        "\n",
        "t1[0] = \"Wubba lubba dub dub\"\n",
        "print(t1)\n",
        "print(id(t1), '\\n')\n"
      ],
      "execution_count": null,
      "outputs": [
        {
          "output_type": "stream",
          "text": [
            "('holbert', [1, 2, 3])\n",
            "140189503270856 \n",
            "\n",
            "('amazing', 'spiderman')\n",
            "140189503312200 \n",
            "\n",
            "('holbert', [1, 2, 3], 'amazing', 'spiderman')\n",
            "140189477317752 \n",
            "\n",
            "('holbert', [1, 2, 3, 'A new World'], 'amazing', 'spiderman')\n",
            "140189477317752 \n",
            "\n"
          ],
          "name": "stdout"
        },
        {
          "output_type": "error",
          "ename": "TypeError",
          "evalue": "ignored",
          "traceback": [
            "\u001b[0;31m---------------------------------------------------------------------------\u001b[0m",
            "\u001b[0;31mTypeError\u001b[0m                                 Traceback (most recent call last)",
            "\u001b[0;32m<ipython-input-43-f2471783e69d>\u001b[0m in \u001b[0;36m<module>\u001b[0;34m()\u001b[0m\n\u001b[1;32m     15\u001b[0m \u001b[0mprint\u001b[0m\u001b[0;34m(\u001b[0m\u001b[0mid\u001b[0m\u001b[0;34m(\u001b[0m\u001b[0mt1\u001b[0m\u001b[0;34m)\u001b[0m\u001b[0;34m,\u001b[0m \u001b[0;34m'\\n'\u001b[0m\u001b[0;34m)\u001b[0m\u001b[0;34m\u001b[0m\u001b[0;34m\u001b[0m\u001b[0m\n\u001b[1;32m     16\u001b[0m \u001b[0;34m\u001b[0m\u001b[0m\n\u001b[0;32m---> 17\u001b[0;31m \u001b[0mt1\u001b[0m\u001b[0;34m[\u001b[0m\u001b[0;36m0\u001b[0m\u001b[0;34m]\u001b[0m \u001b[0;34m=\u001b[0m \u001b[0;34m\"Wubba lubba dub dub\"\u001b[0m\u001b[0;34m\u001b[0m\u001b[0;34m\u001b[0m\u001b[0m\n\u001b[0m\u001b[1;32m     18\u001b[0m \u001b[0mprint\u001b[0m\u001b[0;34m(\u001b[0m\u001b[0mt1\u001b[0m\u001b[0;34m)\u001b[0m\u001b[0;34m\u001b[0m\u001b[0;34m\u001b[0m\u001b[0m\n\u001b[1;32m     19\u001b[0m \u001b[0mprint\u001b[0m\u001b[0;34m(\u001b[0m\u001b[0mid\u001b[0m\u001b[0;34m(\u001b[0m\u001b[0mt1\u001b[0m\u001b[0;34m)\u001b[0m\u001b[0;34m,\u001b[0m \u001b[0;34m'\\n'\u001b[0m\u001b[0;34m)\u001b[0m\u001b[0;34m\u001b[0m\u001b[0;34m\u001b[0m\u001b[0m\n",
            "\u001b[0;31mTypeError\u001b[0m: 'tuple' object does not support item assignment"
          ]
        }
      ]
    },
    {
      "cell_type": "markdown",
      "metadata": {
        "id": "BVEzqajfFN9S"
      },
      "source": [
        "### Okay, what about functions!\n",
        "\n",
        "A mutable object is called by reference in a function, this means that it can change the original variable itself. In order to avoid this, the original variable needs to be copied to another variable. Immutable objects can be called by reference because its value cannot be changed anyways."
      ]
    },
    {
      "cell_type": "code",
      "metadata": {
        "id": "ilzA7pQaFN9S",
        "colab": {
          "base_uri": "https://localhost:8080/",
          "height": 119
        },
        "outputId": "cce55c4e-33a6-4cd5-fa61-0dc2879a45c7"
      },
      "source": [
        "def updatelist(list1):\n",
        "    list1 += [10]\n",
        "    return \n",
        "\n",
        "n = [5,6]\n",
        "print(n)\n",
        "print(id(n), '\\n')\n",
        "updatelist(n)\n",
        "print(n)\n",
        "print(id(n), '\\n')"
      ],
      "execution_count": null,
      "outputs": [
        {
          "output_type": "stream",
          "text": [
            "[5, 6]\n",
            "140189503315848 \n",
            "\n",
            "[5, 6, 10]\n",
            "140189503315848 \n",
            "\n"
          ],
          "name": "stdout"
        }
      ]
    },
    {
      "cell_type": "code",
      "metadata": {
        "id": "wZmyApfiFN9V",
        "outputId": "8665ea39-98bd-4541-a462-3cc12bb487d1"
      },
      "source": [
        "def updatenumber(n):\n",
        "    print(id(n), '\\n')\n",
        "    n += 10\n",
        "    print(id(n), '\\n')\n",
        "    return\n",
        "\n",
        "b = 8\n",
        "print(id(b), '\\n')\n",
        "updatenumber(b)\n",
        "print(b)"
      ],
      "execution_count": null,
      "outputs": [
        {
          "output_type": "stream",
          "text": [
            "4476118656 \n",
            "\n",
            "4476118656 \n",
            "\n",
            "4476118976 \n",
            "\n",
            "8\n"
          ],
          "name": "stdout"
        }
      ]
    },
    {
      "cell_type": "markdown",
      "metadata": {
        "id": "D18a16A3FN9X"
      },
      "source": [
        "## Mini Challenge II"
      ]
    },
    {
      "cell_type": "markdown",
      "metadata": {
        "id": "VjisVrceFN9X"
      },
      "source": [
        "1. Create a list with 4 random numbers:"
      ]
    },
    {
      "cell_type": "code",
      "metadata": {
        "id": "y2QTdy9yFN9X"
      },
      "source": [
        ""
      ],
      "execution_count": null,
      "outputs": []
    },
    {
      "cell_type": "markdown",
      "metadata": {
        "id": "EQBOvpjvFN9Z"
      },
      "source": [
        "2. Change the values of the list by using list\n",
        "comprehension (e.g. multiply by 3):"
      ]
    },
    {
      "cell_type": "code",
      "metadata": {
        "id": "Fs3LQ5Ei2BiX"
      },
      "source": [
        ""
      ],
      "execution_count": null,
      "outputs": []
    },
    {
      "cell_type": "markdown",
      "metadata": {
        "id": "b_Z5QsdhFN9a"
      },
      "source": [
        "3. Insert a new element and then sort the list\n",
        "from top to down\n",
        "\n",
        "__Hint:__ \n",
        "    Here are some common list methods.\n",
        "list.append(elem) -- adds a single element to the end of the list. ...\n",
        "list.insert(index, elem) -- inserts the element at the given index, shifting elements to the right.\n",
        "list.extend(list2) adds the elements in list2 to the end of the list."
      ]
    },
    {
      "cell_type": "code",
      "metadata": {
        "id": "dQS-dp6_2PCM"
      },
      "source": [
        ""
      ],
      "execution_count": null,
      "outputs": []
    },
    {
      "cell_type": "markdown",
      "metadata": {
        "id": "1tOZ0aUSFN9e"
      },
      "source": [
        "4. Create a new list with 5 names:"
      ]
    },
    {
      "cell_type": "code",
      "metadata": {
        "id": "dCYQI7x2FN9e"
      },
      "source": [
        ""
      ],
      "execution_count": null,
      "outputs": []
    },
    {
      "cell_type": "markdown",
      "metadata": {
        "id": "aGOHVXKmFN9g"
      },
      "source": [
        "5. Create a new list with 5 numbers:"
      ]
    },
    {
      "cell_type": "code",
      "metadata": {
        "id": "0FKey-YJFN9g"
      },
      "source": [
        ""
      ],
      "execution_count": null,
      "outputs": []
    },
    {
      "cell_type": "markdown",
      "metadata": {
        "id": "Mm3Ke9yIFN9h"
      },
      "source": [
        "6. Create a dictionary using the previously created lists. The names will be the keys and the numbers the values:\n",
        "\n",
        "__HINT__. _Stack Overflow_ is your friend. And a little secret between the two of us, the command _zip()_ could do the trick ;)"
      ]
    },
    {
      "cell_type": "code",
      "metadata": {
        "id": "nevUniFrFN9h"
      },
      "source": [
        ""
      ],
      "execution_count": null,
      "outputs": []
    },
    {
      "cell_type": "markdown",
      "metadata": {
        "id": "uyGWnThgFN9j"
      },
      "source": [
        "7. Create a second dictionary with random\n",
        "keys and values"
      ]
    },
    {
      "cell_type": "code",
      "metadata": {
        "id": "aXFr8gZuFN9j"
      },
      "source": [
        ""
      ],
      "execution_count": null,
      "outputs": []
    },
    {
      "cell_type": "markdown",
      "metadata": {
        "id": "mqZJYSNGFN9k"
      },
      "source": [
        "8. Create a tuple containing the two\n",
        "dictionaries"
      ]
    },
    {
      "cell_type": "code",
      "metadata": {
        "id": "laJqq8JTFN9l"
      },
      "source": [
        ""
      ],
      "execution_count": null,
      "outputs": []
    },
    {
      "cell_type": "markdown",
      "metadata": {
        "id": "XZwSHagjFN9n"
      },
      "source": [
        "9. Last but not least, change the element of the\n",
        "first key (first tuple element) to “LOL”"
      ]
    },
    {
      "cell_type": "code",
      "metadata": {
        "id": "JHJkDkctFN9p"
      },
      "source": [
        ""
      ],
      "execution_count": null,
      "outputs": []
    },
    {
      "cell_type": "code",
      "metadata": {
        "id": "z89yHGsWFN9q",
        "colab": {
          "base_uri": "https://localhost:8080/"
        },
        "outputId": "1663c128-d05d-4906-d623-6a2c966aa2b4"
      },
      "source": [
        "print(\"Tuples are immutable!!!\")"
      ],
      "execution_count": null,
      "outputs": [
        {
          "output_type": "stream",
          "text": [
            "Tuples are immutable!!!\n"
          ],
          "name": "stdout"
        }
      ]
    },
    {
      "cell_type": "markdown",
      "metadata": {
        "id": "NO6XmYA2FN9r"
      },
      "source": [
        "## Dear participant!\n",
        "\n",
        "You made it! You programmed Python for the first time. It was not that hard right? Just kidden, learning a new language is always hard. So don't feel bad if you did not understand or solve all the exercises in the given time. Learning is all about practice. So practice, practice, practice! Nevertheless, we hope that you enjoyed today and we will see you next week again ;)  \n",
        "\n",
        "__Don't forget! Always look on the bright side of ...__"
      ]
    }
  ]
}